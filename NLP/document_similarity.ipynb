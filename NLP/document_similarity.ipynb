{
 "cells": [
  {
   "cell_type": "code",
   "execution_count": 1,
   "id": "7b8168f4-ff87-4aaa-b8bd-ea6cbfa4ef7d",
   "metadata": {},
   "outputs": [
    {
     "data": {
      "text/plain": [
       "100"
      ]
     },
     "execution_count": 1,
     "metadata": {},
     "output_type": "execute_result"
    }
   ],
   "source": [
    "import pandas as pd\n",
    "import numpy as np\n",
    "import glob \n",
    "import docx2txt\n",
    "from scipy import spatial\n",
    "import gensim.downloader as api\n",
    "import itertools\n",
    "\n",
    "#Get list of all docx\n",
    "list_of_docx = glob.glob('./documents/*.docx')\n",
    "len(list_of_docx)"
   ]
  },
  {
   "cell_type": "code",
   "execution_count": 2,
   "id": "144e86a1-b185-4afe-9167-d69bcbce5260",
   "metadata": {},
   "outputs": [],
   "source": [
    "tuple_of_documents = []\n",
    "for doc in list_of_docx:\n",
    "    text = docx2txt.process(doc)\n",
    "    tuple_of_documents.append((doc, text))"
   ]
  },
  {
   "cell_type": "code",
   "execution_count": 175,
   "id": "e0fa0945-e0db-4b0b-9d4e-6d5465dc3460",
   "metadata": {},
   "outputs": [],
   "source": [
    "# model = api.load(\"word2vec-google-news-300\") \n",
    "import nltk, string\n",
    "stemmer = nltk.stem.porter.PorterStemmer()\n",
    "remove_punctuation_map = dict((ord(char), None) for char in string.punctuation)\n",
    "#tokenizer\n",
    "def removestopwords(tokens):\n",
    "    return [item for item in tokens if item not in stop_words]\n",
    "\n",
    "'''remove punctuation, lowercase, stem'''\n",
    "def normalize(text):\n",
    "    return removestopwords(nltk.word_tokenize(text.lower().translate(remove_punctuation_map)) )\n",
    "\n",
    "def get_vector(s):\n",
    "    c = 0\n",
    "    z = np.hstack(np.zeros(300))\n",
    "    for idx, token in enumerate(normalize(s)):\n",
    "    \n",
    "        try:\n",
    "            vector = model[token]\n",
    "        except Exception:\n",
    "            vector = np.zeros(300)\n",
    "        \n",
    "        z = np.hstack((z, vector))\n",
    "    z = z.reshape(-1, 300)\n",
    "    output = np.mean(z, axis = 0)\n",
    "    return output\n",
    "        \n",
    "            \n",
    "    return np.mean(np.array([model[i] for i in normalize(s)]), axis=0)\n",
    "\n",
    "    \n",
    "\n",
    "def get_spatial_similarity(s0, s1):\n",
    "    return 1 - spatial.distance.cosine(get_vector(s0), get_vector(s1))"
   ]
  },
  {
   "cell_type": "code",
   "execution_count": 176,
   "id": "7b9ead4a-c61c-4894-855b-4b8cb2d67dc4",
   "metadata": {},
   "outputs": [],
   "source": [
    "combinations = []\n",
    "combination_iterator = itertools.combinations(tuple_of_documents, 2)\n",
    "for i in combination_iterator:\n",
    "    combinations.append({f'{i[0][0]} -> {i[1][0]}': [i[0][1], i[1][1]]})"
   ]
  },
  {
   "cell_type": "code",
   "execution_count": 177,
   "id": "e53e1d88-b44a-4e21-ad2c-6c2efb06eede",
   "metadata": {},
   "outputs": [
    {
     "name": "stderr",
     "output_type": "stream",
     "text": [
      "100%|███████████████████████████████████████████████████████████████████████████████████████████████████████████████████████████| 4950/4950 [00:39<00:00, 125.97it/s]\n"
     ]
    }
   ],
   "source": [
    "from tqdm import tqdm\n",
    "final = {}\n",
    "\n",
    "for i in tqdm(combinations):\n",
    "    item = list(i.items())[0]\n",
    "    key = item[0]\n",
    "    s0, s1 = item[1][0], item[1][1]\n",
    "\n",
    "    final[key] = get_spatial_similarity(s0, s1)\n"
   ]
  },
  {
   "cell_type": "code",
   "execution_count": 178,
   "id": "069acdf5-9870-4195-be01-3e21f9fdec76",
   "metadata": {},
   "outputs": [],
   "source": [
    "output = pd.DataFrame.from_dict(final, orient='index')"
   ]
  },
  {
   "cell_type": "code",
   "execution_count": 181,
   "id": "45d282e4-dcf8-47d1-bcbb-164c7f7358e5",
   "metadata": {},
   "outputs": [],
   "source": [
    "output.to_csv('results.csv')"
   ]
  }
 ],
 "metadata": {
  "kernelspec": {
   "display_name": "Python 3 (ipykernel)",
   "language": "python",
   "name": "python3"
  },
  "language_info": {
   "codemirror_mode": {
    "name": "ipython",
    "version": 3
   },
   "file_extension": ".py",
   "mimetype": "text/x-python",
   "name": "python",
   "nbconvert_exporter": "python",
   "pygments_lexer": "ipython3",
   "version": "3.9.4"
  }
 },
 "nbformat": 4,
 "nbformat_minor": 5
}
